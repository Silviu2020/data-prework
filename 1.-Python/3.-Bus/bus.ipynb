{
 "cells": [
  {
   "cell_type": "markdown",
   "metadata": {},
   "source": [
    "<img src=\"https://bit.ly/2VnXWr2\" width=\"100\" align=\"left\">"
   ]
  },
  {
   "cell_type": "markdown",
   "metadata": {},
   "source": [
    "# Bus\n",
    "\n",
    "This bus has a passenger entry and exit control system to monitor the number of occupants it carries and thus detect when there are too many.\n",
    "\n",
    "At each stop, the entry and exit of passengers is represented by a tuple consisting of two integer numbers.\n",
    "```\n",
    "bus_stop = (in, out)\n",
    "```\n",
    "The succession of stops is represented by a list of these tuples.\n",
    "```\n",
    "stops = [(in1, out1), (in2, out2), (in3, out3), (in4, out4)]\n",
    "```\n",
    "\n",
    "## Tools\n",
    "You don't necessarily need to use all the tools. Maybe you opt to use some of them or completely different ones, they are given to help you shape the exercise. Programming exercises can be solved in many different ways.\n",
    "* Data structures: **lists, tuples**\n",
    "* Loop: **while/for loops**\n",
    "* Functions: **min, max, len**\n",
    "\n",
    "## Tasks"
   ]
  },
  {
   "cell_type": "code",
   "execution_count": 1,
   "metadata": {},
   "outputs": [],
   "source": [
    "# Variables\n",
    "stops = [(10, 0), (4, 1), (3, 5), (3, 4), (5, 1), (1, 5), (5, 8), (4, 6), (2, 3)]"
   ]
  },
  {
   "cell_type": "markdown",
   "metadata": {},
   "source": [
    "#### 1. Calculate the number of stops."
   ]
  },
  {
   "cell_type": "code",
   "execution_count": 2,
   "metadata": {},
   "outputs": [
    {
     "name": "stdout",
     "output_type": "stream",
     "text": [
      "The bus has 9 stops.\n"
     ]
    }
   ],
   "source": [
    "stops_sum = len(stops)\n",
    "print(\"The bus has\", stops_sum, \"stops.\")"
   ]
  },
  {
   "cell_type": "markdown",
   "metadata": {},
   "source": [
    "#### 2. Assign to a variable a list whose elements are the number of passengers at each stop (in-out).\n",
    "Each item depends on the previous item in the list + in - out."
   ]
  },
  {
   "cell_type": "code",
   "execution_count": 4,
   "metadata": {},
   "outputs": [],
   "source": [
    "stop_1 = (10, 0)\n",
    "stop_2 = (4, 1)\n",
    "stop_3 = (3, 5)\n",
    "stop_4 = (3, 4)\n",
    "stop_5 = (5, 1)\n",
    "stop_6 = (1, 5)\n",
    "stop_7 = (5, 8)\n",
    "stop_8 = (4, 6)\n",
    "stop_9 = (3, 2)\n",
    "stops = [stop_1, stop_2, stop_3, stop_4, stop_5, stop_6, stop_7, stop_8, stop_9]"
   ]
  },
  {
   "cell_type": "markdown",
   "metadata": {},
   "source": [
    "#### 3. Find the maximum occupation of the bus."
   ]
  },
  {
   "cell_type": "code",
   "execution_count": 7,
   "metadata": {},
   "outputs": [
    {
     "name": "stdout",
     "output_type": "stream",
     "text": [
      "[10, 3, -2, -1, 4, -4, -3, -2, 1]\n",
      "[10, 13, 11, 10, 14, 10, 7, 5, 6]\n",
      "Occupation at Stop Nr. 1 is 10 passengers\n",
      "Occupation at Stop Nr. 2 is 13 passengers\n",
      "Occupation at Stop Nr. 3 is 11 passengers\n",
      "Occupation at Stop Nr. 4 is 10 passengers\n",
      "Occupation at Stop Nr. 5 is 14 passengers\n",
      "Occupation at Stop Nr. 6 is 10 passengers\n",
      "Occupation at Stop Nr. 7 is 7 passengers\n",
      "Occupation at Stop Nr. 8 is 5 passengers\n",
      "Occupation at Stop Nr. 9 is 6 passengers\n",
      "<class 'tuple'>\n",
      "<class 'list'>\n",
      "The maximum occupation is: 14\n"
     ]
    }
   ],
   "source": [
    "total_occupation = []\n",
    "\n",
    "for (in_i, out_i) in stops:\n",
    "    total_occupation.append(in_i - out_i)\n",
    "\n",
    "print(total_occupation)\n",
    "for i in range(1,9):\n",
    "    total_occupation[i] += total_occupation[i-1]\n",
    "print(total_occupation)\n",
    "\n",
    "lists = list(range(1, 10))\n",
    "for i in range(0,9):\n",
    "    print(\"Occupation at Stop Nr.\", lists[i], \"is\", total_occupation[i], \"passengers\")\n",
    "    \n",
    "#relationship in tuple\n",
    "stops[1][0], stops[2][0] \n",
    "print(type(stop_1))\n",
    "#tuple into editable list\n",
    "print(type(list(stop_1)))\n",
    "\n",
    "print(\"The maximum occupation is:\", max(total_occupation))"
   ]
  },
  {
   "cell_type": "markdown",
   "metadata": {},
   "source": [
    "#### 4. Calculate the average occupation. And the standard deviation."
   ]
  },
  {
   "cell_type": "code",
   "execution_count": 8,
   "metadata": {},
   "outputs": [
    {
     "name": "stdout",
     "output_type": "stream",
     "text": [
      "The average degree of occupation is: 9.555555555555555\n",
      "The StDev is 2.87174\n"
     ]
    }
   ],
   "source": [
    "print(\"The average degree of occupation is:\", sum(total_occupation)/len(total_occupation))\n",
    "\n",
    "import numpy \n",
    "\n",
    "std = numpy.std(total_occupation)\n",
    "print(\"The StDev is\", round(std, 5))"
   ]
  },
  {
   "cell_type": "code",
   "execution_count": null,
   "metadata": {},
   "outputs": [],
   "source": []
  }
 ],
 "metadata": {
  "kernelspec": {
   "display_name": "Python 3",
   "language": "python",
   "name": "python3"
  },
  "language_info": {
   "codemirror_mode": {
    "name": "ipython",
    "version": 3
   },
   "file_extension": ".py",
   "mimetype": "text/x-python",
   "name": "python",
   "nbconvert_exporter": "python",
   "pygments_lexer": "ipython3",
   "version": "3.7.4"
  }
 },
 "nbformat": 4,
 "nbformat_minor": 2
}
