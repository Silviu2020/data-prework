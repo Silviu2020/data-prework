{
 "cells": [
  {
   "cell_type": "markdown",
   "metadata": {},
   "source": [
    "<img src=\"https://bit.ly/2VnXWr2\" width=\"100\" align=\"left\">"
   ]
  },
  {
   "cell_type": "markdown",
   "metadata": {},
   "source": [
    "# Rock, Paper & Scissors\n",
    "\n",
    "Let's play the famous game against our computer. You can check the rules [here](https://en.wikipedia.org/wiki/Rock%E2%80%93paper%E2%80%93scissors). \n",
    "\n",
    "## Task\n",
    "Create a program that imitates the playability of the well known game of rock, paper, scissors. Follow the guidelines provided.\n",
    "\n",
    "## Tools\n",
    "1. Loop: **for/while**\n",
    "2. Functions: **input(), print()...**\n",
    "3. Conditional statements: **if, elif, else**\n",
    "4. Definition of functions. Modular programming\n",
    "5. Import modules\n",
    "\n",
    "**To solve this challenge, the use of functions is recommended.**\n",
    "\n",
    "#### 1. Import the choice function of the random module."
   ]
  },
  {
   "cell_type": "code",
   "execution_count": 1,
   "metadata": {},
   "outputs": [
    {
     "name": "stdout",
     "output_type": "stream",
     "text": [
      "0.5014751415497511\n"
     ]
    }
   ],
   "source": [
    "import random\n",
    "\n",
    "rvalue = random.random()\n",
    "\n",
    "print(rvalue)"
   ]
  },
  {
   "cell_type": "markdown",
   "metadata": {},
   "source": [
    "#### 2. Create a list that includes the 3 possible gesture options of the game: 'rock', 'paper' or 'scissors'. Store the list in a variable called `gestures`."
   ]
  },
  {
   "cell_type": "code",
   "execution_count": 2,
   "metadata": {},
   "outputs": [],
   "source": [
    "gestures = ['rock', 'paper', 'scissors']"
   ]
  },
  {
   "cell_type": "markdown",
   "metadata": {},
   "source": [
    "#### 3. Create a variable called `n_rounds` to store the maximum number of rounds to play in a game. \n",
    "Remember that the number of rounds must be odd: 1, 3, 5, ..."
   ]
  },
  {
   "cell_type": "code",
   "execution_count": 3,
   "metadata": {},
   "outputs": [],
   "source": [
    "n_rounds = 3"
   ]
  },
  {
   "cell_type": "markdown",
   "metadata": {},
   "source": [
    "#### 4. Create a variable called `rounds_to_win` to store the number of rounds that a player must win to win the game.\n",
    "**Hint**: the value stored in `rounds_to_win` depends on the value of `n_rounds`. "
   ]
  },
  {
   "cell_type": "code",
   "execution_count": 4,
   "metadata": {},
   "outputs": [],
   "source": [
    "rounds_to_win = 2"
   ]
  },
  {
   "cell_type": "markdown",
   "metadata": {},
   "source": [
    "#### 5. Create two variables to store the number of rounds that the computer and the player have won. Call these variables `cpu_score` and `player_score`."
   ]
  },
  {
   "cell_type": "code",
   "execution_count": 5,
   "metadata": {},
   "outputs": [],
   "source": [
    "cpu_score = 0\n",
    "player_score = 0"
   ]
  },
  {
   "cell_type": "markdown",
   "metadata": {},
   "source": [
    "#### 6. Define a function that randomly returns one of the 3 gesture options.\n",
    "You will use this function to simulate the gesture choice of the computer. "
   ]
  },
  {
   "cell_type": "code",
   "execution_count": 6,
   "metadata": {},
   "outputs": [],
   "source": [
    "computer = []"
   ]
  },
  {
   "cell_type": "markdown",
   "metadata": {},
   "source": [
    "#### 7. Define a function that asks the player which is the gesture he or she wants to show: 'rock', 'paper' or 'scissors'.\n",
    "The player should only be allowed to choose one of the 3 gesture options. If the player's choice is not rock, paper or scissors, keep asking until it is."
   ]
  },
  {
   "cell_type": "code",
   "execution_count": 7,
   "metadata": {},
   "outputs": [],
   "source": [
    "choice = ['rock', 'paper', 'scissors']"
   ]
  },
  {
   "cell_type": "markdown",
   "metadata": {},
   "source": [
    "#### 8. Define a function that checks who won a round. \n",
    "The function should return 0 if there is a tie, 1 if the computer wins and 2 if the player wins."
   ]
  },
  {
   "cell_type": "code",
   "execution_count": 8,
   "metadata": {},
   "outputs": [],
   "source": [
    "result = []"
   ]
  },
  {
   "cell_type": "markdown",
   "metadata": {},
   "source": [
    "#### 9. Define a function that prints the choice of the computer, the choice of the player and a message that announces who won the current round. \n",
    "You should also use this function to update the variables that count the number of rounds that the computer and the player have won. The score of the winner increases by one point. If there is a tie, the score does not increase."
   ]
  },
  {
   "cell_type": "code",
   "execution_count": 9,
   "metadata": {},
   "outputs": [],
   "source": [
    "text = 'Please choose: \\n > rock \\n > paper \\n > scissors \\n >> '\n",
    "total_rounds = 0\n",
    "tie = 0"
   ]
  },
  {
   "cell_type": "markdown",
   "metadata": {},
   "source": [
    "#### 10. Now it's time to code the execution of the game using the functions and variables you defined above. \n",
    "\n",
    "First, create a loop structure that repeats while no player reaches the minimum score necessary to win and the number of rounds is less than the maximum number of rounds to play in a game.  \n",
    "\n",
    "Inside the loop, use the functions and variables above to create the execution of a round: ask for the player's choice, generate the random choice of the computer, show the round results, update the scores, etc. "
   ]
  },
  {
   "cell_type": "code",
   "execution_count": 10,
   "metadata": {},
   "outputs": [
    {
     "name": "stdout",
     "output_type": "stream",
     "text": [
      "Round Nr: 1\n",
      "Please choose: \n",
      " > rock \n",
      " > paper \n",
      " > scissors \n",
      " >> paper\n",
      "CPU 0\n",
      "Person 0\n",
      "Result [0]\n",
      ">> Player chose: paper - CPU chose: paper - Result: tie\n",
      "Round Nr: 2\n",
      "Please choose: \n",
      " > rock \n",
      " > paper \n",
      " > scissors \n",
      " >> rock\n",
      "CPU 1\n",
      "Person 0\n",
      "Result [0, 1]\n",
      ">> Player chose: rock - CPU chose: paper - Result: CPU wins\n",
      "Round Nr: 3\n",
      "Please choose: \n",
      " > rock \n",
      " > paper \n",
      " > scissors \n",
      " >> rock\n",
      "CPU 2\n",
      "Person 0\n",
      "Result [0, 1, 1]\n",
      ">> Player chose: rock - CPU chose: paper - Result: CPU wins\n"
     ]
    }
   ],
   "source": [
    "while cpu_score < rounds_to_win and player_score < rounds_to_win and total_rounds <= n_rounds:\n",
    "    total_rounds += 1\n",
    "    print(\"Round Nr:\", total_rounds)\n",
    "    input_choice = input(text)\n",
    "    computer_output = random.choice(choice)\n",
    "    computer.append(computer_output)\n",
    "    while input_choice not in choice:\n",
    "        print(\"Input not valid, please try again!\")\n",
    "        input_choice = input(text)\n",
    "    if input_choice == computer_output:\n",
    "        result.append(0)\n",
    "        tie += 1\n",
    "        win = 'tie'\n",
    "    else:\n",
    "        if input_choice == 'rock' and computer_output == 'scissors':\n",
    "            win = 'Player wins'\n",
    "        elif input_choice == 'rock' and computer_output == 'paper':\n",
    "            win = 'CPU wins'\n",
    "        elif input_choice == 'scissors' and computer_output == 'paper':\n",
    "            win = 'Player wins'\n",
    "        elif input_choice == 'scissors' and computer_output == 'rock':\n",
    "            win = 'CPU wins'\n",
    "        elif input_choice == 'paper' and computer_output == 'rock':\n",
    "            win = 'Player wins'\n",
    "        elif input_choice == 'paper' and computer_output == 'scissors':\n",
    "            win = 'CPU wins'\n",
    "    if win == str('Player wins'):\n",
    "        player_score += 1\n",
    "        result.append(2)\n",
    "    elif win == str('CPU wins'):\n",
    "        cpu_score += 1\n",
    "        result.append(1)\n",
    "    print(\"CPU\", cpu_score)\n",
    "    print(\"Person\", player_score)\n",
    "    print(\"Result\", result)\n",
    "    print(\">> Player chose:\", input_choice,\"- CPU chose:\", computer_output,\"- Result:\", win)"
   ]
  },
  {
   "cell_type": "markdown",
   "metadata": {},
   "source": [
    "#### 11. Print the winner of the game based on who won more rounds.\n",
    "Remember that the game might be tied. "
   ]
  },
  {
   "cell_type": "code",
   "execution_count": 11,
   "metadata": {},
   "outputs": [
    {
     "name": "stdout",
     "output_type": "stream",
     "text": [
      "CPU won\n"
     ]
    }
   ],
   "source": [
    "if player_score > cpu_score:\n",
    "    print('CONGRATS!!! YOU WON')\n",
    "if player_score < cpu_score:\n",
    "    print('CPU won')\n",
    "if player_score == cpu_score:\n",
    "    print('Game was tied')"
   ]
  },
  {
   "cell_type": "markdown",
   "metadata": {},
   "source": [
    "# Bonus: Rock, Paper, Scissors, Lizard & Spock\n",
    "![](images/rpsls.jpg)\n",
    "\n",
    "In this challenge, you need to improve the previous game by adding two new options. To know more about the rules of the improved version of rock, paper, scissors, check this [link](http://www.samkass.com/theories/RPSSL.html). \n",
    "\n",
    "In addition, you will also need to improve how the game interacts with the player: the number of rounds to play, which must be an odd number, will be requested to the user until a valid number is entered. Define a new function to make that request.\n",
    "\n",
    "**Hint**: Try to reuse the code that you already coded in the previous challenge. If your code is efficient, this bonus will only consist of simple modifications to the original game."
   ]
  },
  {
   "cell_type": "code",
   "execution_count": null,
   "metadata": {},
   "outputs": [],
   "source": []
  }
 ],
 "metadata": {
  "kernelspec": {
   "display_name": "Python 3",
   "language": "python",
   "name": "python3"
  },
  "language_info": {
   "codemirror_mode": {
    "name": "ipython",
    "version": 3
   },
   "file_extension": ".py",
   "mimetype": "text/x-python",
   "name": "python",
   "nbconvert_exporter": "python",
   "pygments_lexer": "ipython3",
   "version": "3.7.4"
  }
 },
 "nbformat": 4,
 "nbformat_minor": 2
}
